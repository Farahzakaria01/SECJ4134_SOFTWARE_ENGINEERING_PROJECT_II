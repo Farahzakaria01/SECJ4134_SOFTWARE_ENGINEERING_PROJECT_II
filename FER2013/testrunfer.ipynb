{
 "cells": [
  {
   "cell_type": "code",
   "execution_count": null,
   "id": "040afff9-d206-4a6f-8092-176a60e93eb7",
   "metadata": {},
   "outputs": [],
   "source": [
    "import tensorflow as tf ##pip install tensorflow-gpu\n",
    "import cv2 ##pip install opencv-python\n",
    "##pip install opencv-contrib-python fullpackage\n",
    "import os\n",
    "import matplotlib.pyplot as plt ##pip install matlplotlib\n",
    "import numpy as np ##pip install numpy"
   ]
  }
 ],
 "metadata": {
  "kernelspec": {
   "display_name": "Python 3 (ipykernel)",
   "language": "python",
   "name": "python3"
  },
  "language_info": {
   "codemirror_mode": {
    "name": "ipython",
    "version": 3
   },
   "file_extension": ".py",
   "mimetype": "text/x-python",
   "name": "python",
   "nbconvert_exporter": "python",
   "pygments_lexer": "ipython3",
   "version": "3.12.4"
  }
 },
 "nbformat": 4,
 "nbformat_minor": 5
}
